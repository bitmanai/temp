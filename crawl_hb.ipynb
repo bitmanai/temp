{
 "cells": [
  {
   "cell_type": "markdown",
   "id": "d809cbec-3d36-48d6-8132-117ae5487e3f",
   "metadata": {},
   "source": [
    "# Khoa CNTT K19"
   ]
  },
  {
   "cell_type": "code",
   "execution_count": 22,
   "id": "51af6bb5-5095-4c6f-b3b5-59ef2a644bf6",
   "metadata": {
    "scrolled": true
   },
   "outputs": [
    {
     "name": "stderr",
     "output_type": "stream",
     "text": [
      "CropBox missing from /Page, defaulting to MediaBox\n",
      "CropBox missing from /Page, defaulting to MediaBox\n"
     ]
    },
    {
     "name": "stdout",
     "output_type": "stream",
     "text": [
      "Đang đọc file: ./K19CNTT_DT\\CNTT_K19_dai tra.pdf\n"
     ]
    },
    {
     "name": "stderr",
     "output_type": "stream",
     "text": [
      "CropBox missing from /Page, defaulting to MediaBox\n",
      "CropBox missing from /Page, defaulting to MediaBox\n",
      "CropBox missing from /Page, defaulting to MediaBox\n",
      "CropBox missing from /Page, defaulting to MediaBox\n",
      "CropBox missing from /Page, defaulting to MediaBox\n"
     ]
    },
    {
     "name": "stdout",
     "output_type": "stream",
     "text": [
      "Đang đọc file: ./K19CNTT_DT\\He thong thong tin_K19_DAI TRA(1).pdf\n"
     ]
    },
    {
     "name": "stderr",
     "output_type": "stream",
     "text": [
      "CropBox missing from /Page, defaulting to MediaBox\n",
      "CropBox missing from /Page, defaulting to MediaBox\n",
      "CropBox missing from /Page, defaulting to MediaBox\n",
      "CropBox missing from /Page, defaulting to MediaBox\n",
      "CropBox missing from /Page, defaulting to MediaBox\n"
     ]
    },
    {
     "name": "stdout",
     "output_type": "stream",
     "text": [
      "Đang đọc file: ./K19CNTT_DT\\Khoa hoc du lieu_K19_Dai tra.pdf\n"
     ]
    },
    {
     "name": "stderr",
     "output_type": "stream",
     "text": [
      "CropBox missing from /Page, defaulting to MediaBox\n",
      "CropBox missing from /Page, defaulting to MediaBox\n",
      "CropBox missing from /Page, defaulting to MediaBox\n",
      "CropBox missing from /Page, defaulting to MediaBox\n"
     ]
    },
    {
     "name": "stdout",
     "output_type": "stream",
     "text": [
      "Đang đọc file: ./K19CNTT_DT\\KHOA HOC MAY TINH_K19_DAI TRA(1).pdf\n"
     ]
    },
    {
     "name": "stderr",
     "output_type": "stream",
     "text": [
      "CropBox missing from /Page, defaulting to MediaBox\n",
      "CropBox missing from /Page, defaulting to MediaBox\n",
      "CropBox missing from /Page, defaulting to MediaBox\n",
      "CropBox missing from /Page, defaulting to MediaBox\n",
      "CropBox missing from /Page, defaulting to MediaBox\n",
      "CropBox missing from /Page, defaulting to MediaBox\n"
     ]
    },
    {
     "name": "stdout",
     "output_type": "stream",
     "text": [
      "Đang đọc file: ./K19CNTT_DT\\KTPM_K19_dai tra.pdf\n"
     ]
    },
    {
     "name": "stderr",
     "output_type": "stream",
     "text": [
      "CropBox missing from /Page, defaulting to MediaBox\n",
      "CropBox missing from /Page, defaulting to MediaBox\n",
      "CropBox missing from /Page, defaulting to MediaBox\n",
      "CropBox missing from /Page, defaulting to MediaBox\n",
      "CropBox missing from /Page, defaulting to MediaBox\n",
      "CropBox missing from /Page, defaulting to MediaBox\n"
     ]
    },
    {
     "name": "stdout",
     "output_type": "stream",
     "text": [
      "Đang đọc file: ./K19CNTT_CLC\\CNTT_K19_CLC(1).pdf\n"
     ]
    },
    {
     "name": "stderr",
     "output_type": "stream",
     "text": [
      "CropBox missing from /Page, defaulting to MediaBox\n",
      "CropBox missing from /Page, defaulting to MediaBox\n",
      "CropBox missing from /Page, defaulting to MediaBox\n",
      "CropBox missing from /Page, defaulting to MediaBox\n",
      "CropBox missing from /Page, defaulting to MediaBox\n"
     ]
    },
    {
     "name": "stdout",
     "output_type": "stream",
     "text": [
      "Đang đọc file: ./K19CNTT_CLC\\He thong thong tin_K19_CLC.pdf\n"
     ]
    },
    {
     "name": "stderr",
     "output_type": "stream",
     "text": [
      "CropBox missing from /Page, defaulting to MediaBox\n",
      "CropBox missing from /Page, defaulting to MediaBox\n",
      "CropBox missing from /Page, defaulting to MediaBox\n",
      "CropBox missing from /Page, defaulting to MediaBox\n",
      "CropBox missing from /Page, defaulting to MediaBox\n",
      "CropBox missing from /Page, defaulting to MediaBox\n"
     ]
    },
    {
     "name": "stdout",
     "output_type": "stream",
     "text": [
      "Đang đọc file: ./K19CNTT_CLC\\KHOA HOC MAY TINH_K19_CLC.pdf\n"
     ]
    },
    {
     "name": "stderr",
     "output_type": "stream",
     "text": [
      "CropBox missing from /Page, defaulting to MediaBox\n",
      "CropBox missing from /Page, defaulting to MediaBox\n",
      "CropBox missing from /Page, defaulting to MediaBox\n",
      "CropBox missing from /Page, defaulting to MediaBox\n",
      "CropBox missing from /Page, defaulting to MediaBox\n"
     ]
    },
    {
     "name": "stdout",
     "output_type": "stream",
     "text": [
      "Đang đọc file: ./K19CNTT_CLC\\KTPM_K19_CLC.pdf\n"
     ]
    },
    {
     "name": "stderr",
     "output_type": "stream",
     "text": [
      "CropBox missing from /Page, defaulting to MediaBox\n",
      "CropBox missing from /Page, defaulting to MediaBox\n"
     ]
    },
    {
     "data": {
      "text/plain": [
       "(474, 368)"
      ]
     },
     "execution_count": 22,
     "metadata": {},
     "output_type": "execute_result"
    }
   ],
   "source": [
    "import os\n",
    "import pdfplumber\n",
    "\n",
    "# Thư mục chứa các file PDF\n",
    "folder_dt = \"./K19CNTT_DT\"  # 🛑 Hãy thay bằng đường dẫn thật, ví dụ: \"C:/Users/you/Downloads/pdfs\"\n",
    "folder_clc = \"./K19CNTT_CLC\"\n",
    "mssv_dt = []\n",
    "mssv_clc = []\n",
    "\n",
    "def extract_mssv_from_folder(folder_path):\n",
    "    mssv_list = []\n",
    "    for filename in os.listdir(folder_path):\n",
    "        if filename.lower().endswith(\".pdf\"):\n",
    "            file_path = os.path.join(folder_path, filename)\n",
    "            print(f\"Đang đọc file: {file_path}\")\n",
    "            try:\n",
    "                with pdfplumber.open(file_path) as pdf:\n",
    "                    for page in pdf.pages:\n",
    "                        tables = page.extract_tables()\n",
    "                        for table in tables:\n",
    "                            for row in table:\n",
    "                                # Bỏ qua nếu row không hợp lệ hoặc không đủ cột\n",
    "                                if row and len(row) > 1 and row[1] and isinstance(row[1], str) and row[1].strip().isdigit():\n",
    "                                    mssv_list.append(row[1].strip())\n",
    "            except Exception as e:\n",
    "                print(f\"Lỗi khi đọc {filename}: {e}\")\n",
    "    return mssv_list\n",
    "\n",
    "mssv_dt = extract_mssv_from_folder(folder_dt)\n",
    "mssv_clc = extract_mssv_from_folder(folder_clc)\n",
    "\n",
    "len(mssv_dt), len(mssv_clc)"
   ]
  },
  {
   "cell_type": "markdown",
   "id": "11643f54-c36e-4e4b-a216-1c4fa4bc4421",
   "metadata": {},
   "source": [
    "## Cell này chạy khoảng 25p"
   ]
  },
  {
   "cell_type": "code",
   "execution_count": 23,
   "id": "15581bd7-3d9d-41d3-a8f9-cce1eb617c03",
   "metadata": {
    "scrolled": true
   },
   "outputs": [
    {
     "name": "stdout",
     "output_type": "stream",
     "text": [
      "🔎 Đang xử lý...\n",
      "🔎 Đang xử lý...\n",
      "✅ Hoàn tất.\n"
     ]
    }
   ],
   "source": [
    "from selenium import webdriver\n",
    "from selenium.webdriver.common.by import By\n",
    "from selenium.webdriver.edge.options import Options\n",
    "from selenium.webdriver.support.ui import WebDriverWait, Select\n",
    "from selenium.webdriver.support import expected_conditions as EC\n",
    "from bs4 import BeautifulSoup\n",
    "import time\n",
    "import csv\n",
    "\n",
    "# --- CẤU HÌNH ẨN TRÌNH DUYỆT ---\n",
    "options = Options()\n",
    "options.add_argument(\"--headless\")\n",
    "options.add_argument(\"--disable-gpu\")\n",
    "options.add_argument(\"--window-size=1920,1080\")\n",
    "\n",
    "driver = webdriver.Edge(options=options)\n",
    "driver.get(\"https://pdt.iuh.edu.vn/tra-cuu-hoc-bong/\")\n",
    "\n",
    "wait = WebDriverWait(driver, 10)\n",
    "wait.until(EC.presence_of_element_located((By.ID, \"maSV\")))\n",
    "\n",
    "# Chọn học kỳ và năm học\n",
    "Select(driver.find_element(By.ID, \"hocky\")).select_by_value(\"2\")\n",
    "driver.find_element(By.ID, \"namhoc\").send_keys(\"2023-2024\")\n",
    "\n",
    "# --- HÀM PARSE HTML ---\n",
    "def parse_result(driver):\n",
    "    wait.until(lambda d: d.find_elements(By.CSS_SELECTOR, \"#search_results .mydiv\")\n",
    "               or \"Không tìm thấy\" in d.find_element(By.ID, \"search_results\").text)\n",
    "\n",
    "    container = driver.find_element(By.ID, \"search_results\")\n",
    "    inner_html = container.get_attribute(\"innerHTML\")\n",
    "    soup = BeautifulSoup(inner_html, \"html.parser\")\n",
    "\n",
    "    if \"Không tìm thấy\" in soup.text:\n",
    "        return None\n",
    "\n",
    "    data = {}\n",
    "    for div in soup.select(\".mydiv\"):\n",
    "        label_span = div.select_one(\"span.sp_1\")\n",
    "        if not label_span:\n",
    "            continue\n",
    "        label = label_span.get_text(strip=True).rstrip(\":\")\n",
    "        text_full = div.get_text(\" \", strip=True)\n",
    "        value = text_full.replace(label_span.get_text(), \"\", 1).strip().lstrip(\":\").strip()\n",
    "        data[label] = value\n",
    "    return data\n",
    "\n",
    "# --- VÒNG LẶP QUA DANH SÁCH SINH VIÊN ---\n",
    "def temp(output_fn, mssv_list):\n",
    "    print(f\"🔎 Đang xử lý...\")\n",
    "    fieldnames = [\n",
    "        \"MSSV\", \"Mã số sinh viên\", \"Họ tên\", \"Lớp\",\n",
    "        \"Điểm\", \"Số TC\", \"Mức học bổng\",\n",
    "        \"Xếp loại học tập\", \"Xếp loại rèn luyện\",\n",
    "        \"Số tiền\", \"Ghi chú\"\n",
    "    ]\n",
    "    with open(output_fn, \"w\", encoding=\"utf-8\", newline=\"\") as fout:\n",
    "        writer = csv.DictWriter(fout, fieldnames=fieldnames)\n",
    "        writer.writeheader()\n",
    "    \n",
    "        for mssv in mssv_list:\n",
    "            inp = driver.find_element(By.ID, \"maSV\")\n",
    "            inp.clear()\n",
    "            inp.send_keys(mssv)\n",
    "            driver.find_element(By.ID, \"timkiem_btn\").click()\n",
    "        \n",
    "            # CHỜ cập nhật kết quả\n",
    "            time.sleep(1.5)\n",
    "            result = parse_result(driver)\n",
    "            if result:\n",
    "                row = {k: result.get(k, \"\") for k in fieldnames}\n",
    "                row[\"MSSV\"] = mssv\n",
    "                writer.writerow(row)\n",
    "\n",
    "temp(\"./HB_K19CNTT/HB_K19CNTT_DT.csv\", mssv_dt)\n",
    "temp(\"./HB_K19CNTT/HB_K19CNTT_CLC.csv\", mssv_clc)\n",
    "\n",
    "print(\"✅ Hoàn tất.\")\n",
    "driver.quit()"
   ]
  },
  {
   "cell_type": "code",
   "execution_count": 41,
   "id": "44e2a507-970a-44e2-b712-92ecb42ee283",
   "metadata": {},
   "outputs": [
    {
     "name": "stdout",
     "output_type": "stream",
     "text": [
      "📌 Số SV có học bổng:\n",
      "  - Đại trà: 119\n",
      "  - CLC: 30\n",
      "  - Tổng cộng: 149 (17.70%)\n",
      "\n",
      "📊 Thống kê chi tiết từng mức học bổng cho Đại trà và CLC:\n",
      "\n",
      "🔷 Chương trình: Đại trà\n",
      "  - Mức 30%: 27 SV (3.21%)\n",
      "      + Khoảng điểm: 3.45 - 3.51\n",
      "      + Số tiền: 4,656,000 VNĐ\n",
      "  - Mức 50%: 30 SV (3.56%)\n",
      "      + Khoảng điểm: 3.52 - 3.56\n",
      "      + Số tiền: 7,760,000 VNĐ\n",
      "  - Mức 70%: 27 SV (3.21%)\n",
      "      + Khoảng điểm: 3.5 - 3.67\n",
      "      + Số tiền: 10,864,000 VNĐ\n",
      "  - Mức 100%: 35 SV (4.16%)\n",
      "      + Khoảng điểm: 3.69 - 3.93\n",
      "      + Số tiền: 15,520,000 VNĐ\n",
      "\n",
      "🔷 Chương trình: CLC\n",
      "  - Mức 30%: 11 SV (1.31%)\n",
      "      + Khoảng điểm: 3.45 - 3.5\n",
      "      + Số tiền: 5,782,500 VNĐ\n",
      "  - Mức 50%: 5 SV (0.59%)\n",
      "      + Khoảng điểm: 3.53 - 3.56\n",
      "      + Số tiền: 9,637,500 VNĐ\n",
      "  - Mức 70%: 11 SV (1.31%)\n",
      "      + Khoảng điểm: 3.57 - 3.68\n",
      "      + Số tiền: 13,492,500 VNĐ\n",
      "  - Mức 100%: 3 SV (0.36%)\n",
      "      + Khoảng điểm: 3.69 - 3.78\n",
      "      + Số tiền: 19,275,000 VNĐ\n",
      "\n"
     ]
    }
   ],
   "source": [
    "import pandas as pd\n",
    "\n",
    "# Đọc dữ liệu\n",
    "df_dt = pd.read_csv(\"./HB_K19CNTT/HB_K19CNTT_DT.csv\")\n",
    "df_clc = pd.read_csv(\"./HB_K19CNTT/HB_K19CNTT_CLC.csv\")\n",
    "\n",
    "# Thêm cột chương trình\n",
    "df_dt[\"Chương trình\"] = \"Đại trà\"\n",
    "df_clc[\"Chương trình\"] = \"CLC\"\n",
    "\n",
    "# Gộp dữ liệu\n",
    "df = pd.concat([df_dt, df_clc], ignore_index=True)\n",
    "\n",
    "# Làm sạch số tiền\n",
    "df[\"Số tiền\"] = (\n",
    "    df[\"Số tiền\"]\n",
    "    .str.replace(\".\", \"\", regex=False)\n",
    "    .str.replace(\",\", \"\", regex=False)\n",
    "    .str.extract(r\"(\\d+)\")\n",
    "    .astype(float)\n",
    ")\n",
    "\n",
    "# Tổng số SV thực tế\n",
    "total_students = 842\n",
    "num_dt = len(df_dt)\n",
    "num_clc = len(df_clc)\n",
    "num_total = len(df)\n",
    "percent_total = num_total / total_students * 100\n",
    "\n",
    "print(f\"📌 Số SV có học bổng:\")\n",
    "print(f\"  - Đại trà: {num_dt}\")\n",
    "print(f\"  - CLC: {num_clc}\")\n",
    "print(f\"  - Tổng cộng: {num_total} ({percent_total:.2f}%)\\n\")\n",
    "\n",
    "# Mức học bổng cần thống kê\n",
    "muc_hoc_bong_levels = [\"30%\", \"50%\", \"70%\", \"100%\"]\n",
    "\n",
    "print(\"📊 Thống kê chi tiết từng mức học bổng cho Đại trà và CLC:\\n\")\n",
    "\n",
    "# Duyệt theo từng chương trình và mức học bổng\n",
    "for program in [\"Đại trà\", \"CLC\"]:\n",
    "    print(f\"🔷 Chương trình: {program}\")\n",
    "    df_prog = df[df[\"Chương trình\"] == program]\n",
    "    \n",
    "    for muc in muc_hoc_bong_levels:\n",
    "        subset = df_prog[df_prog[\"Mức học bổng\"] == muc]\n",
    "        so_sv = len(subset)\n",
    "        ty_le = so_sv / total_students * 100\n",
    "        if so_sv > 0:\n",
    "            diem_min = subset[\"Điểm\"].min()\n",
    "            diem_max = subset[\"Điểm\"].max()\n",
    "            tien = subset[\"Số tiền\"].iloc[0]\n",
    "            print(f\"  - Mức {muc}: {so_sv} SV ({ty_le:.2f}%)\")\n",
    "            print(f\"      + Khoảng điểm: {diem_min} - {diem_max}\")\n",
    "            print(f\"      + Số tiền: {tien:,.0f} VNĐ\")\n",
    "        else:\n",
    "            print(f\"  - Mức {muc}: Không có SV\")\n",
    "    print()\n"
   ]
  }
 ],
 "metadata": {
  "kernelspec": {
   "display_name": "Python 3 (ipykernel)",
   "language": "python",
   "name": "python3"
  },
  "language_info": {
   "codemirror_mode": {
    "name": "ipython",
    "version": 3
   },
   "file_extension": ".py",
   "mimetype": "text/x-python",
   "name": "python",
   "nbconvert_exporter": "python",
   "pygments_lexer": "ipython3",
   "version": "3.12.3"
  }
 },
 "nbformat": 4,
 "nbformat_minor": 5
}
